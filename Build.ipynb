{
 "cells": [
  {
   "cell_type": "code",
   "execution_count": 1,
   "id": "992c1e49",
   "metadata": {},
   "outputs": [],
   "source": [
    "# Core libraries\n",
    "import pandas as pd\n",
    "import numpy as np\n",
    "import networkx as nx\n",
    "import pickle\n"
   ]
  },
  {
   "cell_type": "code",
   "execution_count": 2,
   "id": "c499ad8c",
   "metadata": {},
   "outputs": [
    {
     "name": "stdout",
     "output_type": "stream",
     "text": [
      "Processed 100000/286561 rows (34.90%)\n",
      "Processed 200000/286561 rows (69.79%)\n",
      "Processed 286561/286561 rows (100.00%)\n",
      "Graph construction complete. Number of nodes: 35776, Number of edges: 137821\n"
     ]
    }
   ],
   "source": [
    "# Parameters\n",
    "chunk_size = 100_000\n",
    "input_file = 'soc-redditHyperlinks-body.tsv'\n",
    "\n",
    "# Build directed graph from Reddit hyperlink data\n",
    "G = nx.DiGraph()\n",
    "total_rows = sum(1 for _ in open(input_file)) - 1\n",
    "reader = pd.read_csv(input_file, sep='\\t', comment='#', chunksize=chunk_size)\n",
    "rows_processed = 0\n",
    "\n",
    "for chunk in reader:\n",
    "    for _, row in chunk.iterrows():\n",
    "        src = row['SOURCE_SUBREDDIT']\n",
    "        tgt = row['TARGET_SUBREDDIT']\n",
    "        if G.has_edge(src, tgt):\n",
    "            G[src][tgt]['weight'] += 1\n",
    "        else:\n",
    "            G.add_edge(src, tgt, weight=1)\n",
    "    rows_processed += len(chunk)\n",
    "    print(f\"Processed {rows_processed}/{total_rows} rows ({rows_processed/total_rows:.2%})\")\n",
    "\n",
    "print(f\"Graph construction complete. Number of nodes: {G.number_of_nodes()}, Number of edges: {G.number_of_edges()}\")\n"
   ]
  },
  {
   "cell_type": "code",
   "execution_count": 3,
   "id": "6dcb997d",
   "metadata": {},
   "outputs": [
    {
     "name": "stdout",
     "output_type": "stream",
     "text": [
      "Graph saved to reddit_graph.pkl\n"
     ]
    }
   ],
   "source": [
    "# Save the graph object for later use\n",
    "with open('reddit_graph.pkl', 'wb') as f:\n",
    "    pickle.dump(G, f)\n",
    "print(\"Graph saved to reddit_graph.pkl\")\n"
   ]
  },
  {
   "cell_type": "code",
   "execution_count": null,
   "id": "e45aead5",
   "metadata": {},
   "outputs": [],
   "source": []
  }
 ],
 "metadata": {
  "kernelspec": {
   "display_name": "base",
   "language": "python",
   "name": "python3"
  },
  "language_info": {
   "codemirror_mode": {
    "name": "ipython",
    "version": 3
   },
   "file_extension": ".py",
   "mimetype": "text/x-python",
   "name": "python",
   "nbconvert_exporter": "python",
   "pygments_lexer": "ipython3",
   "version": "3.11.7"
  }
 },
 "nbformat": 4,
 "nbformat_minor": 5
}
